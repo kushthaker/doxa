{
 "cells": [
  {
   "cell_type": "code",
   "execution_count": 1,
   "metadata": {},
   "outputs": [],
   "source": [
    "import os, sys\n",
    "sys.path.append(os.path.dirname(os.path.dirname(os.path.abspath('application/'))))"
   ]
  },
  {
   "cell_type": "code",
   "execution_count": 2,
   "metadata": {},
   "outputs": [
    {
     "name": "stdout",
     "output_type": "stream",
     "text": [
      "USING VARIABLE LOCAL\n"
     ]
    }
   ],
   "source": [
    "from application.models import User\n",
    "from application.applied_science import data_utils as du\n",
    "import datetime as dt\n"
   ]
  },
  {
   "cell_type": "code",
   "execution_count": 7,
   "metadata": {},
   "outputs": [],
   "source": [
    "# job to create tables\n",
    "start_time_utc  = dt.datetime.now() - dt.timedelta(weeks=14)\n",
    "end_time_utc = dt.datetime.now() - dt.timedelta(weeks=13)\n",
    "users_list = User.query.all()\n",
    "user_datas = []\n",
    "for user in users_list:\n",
    "  if user.fully_authenticated:\n",
    "    user_data = du.collaboration_activity_data_for_given_period(user, start_time_utc, end_time_utc)\n",
    "    user_datas.append(user_data)\n"
   ]
  },
  {
   "cell_type": "code",
   "execution_count": 8,
   "metadata": {},
   "outputs": [
    {
     "data": {
      "text/plain": [
       "User('kushthaker','kushthaker@gmail.com','default.jpg')"
      ]
     },
     "execution_count": 8,
     "metadata": {},
     "output_type": "execute_result"
    }
   ],
   "source": [
    "users_list[0]"
   ]
  },
  {
   "cell_type": "code",
   "execution_count": 16,
   "metadata": {},
   "outputs": [
    {
     "data": {
      "text/html": [
       "<div>\n",
       "<style scoped>\n",
       "    .dataframe tbody tr th:only-of-type {\n",
       "        vertical-align: middle;\n",
       "    }\n",
       "\n",
       "    .dataframe tbody tr th {\n",
       "        vertical-align: top;\n",
       "    }\n",
       "\n",
       "    .dataframe thead th {\n",
       "        text-align: right;\n",
       "    }\n",
       "</style>\n",
       "<table border=\"1\" class=\"dataframe\">\n",
       "  <thead>\n",
       "    <tr style=\"text-align: right;\">\n",
       "      <th></th>\n",
       "      <th>datetime_utc</th>\n",
       "      <th>slack_conversation_read_count</th>\n",
       "      <th>slack_user_event_count</th>\n",
       "      <th>google_calendar_event_id</th>\n",
       "      <th>google_calendar_event_count</th>\n",
       "      <th>in_meeting</th>\n",
       "    </tr>\n",
       "  </thead>\n",
       "  <tbody>\n",
       "    <tr>\n",
       "      <th>2019-11-14 17:30:00</th>\n",
       "      <td>2019-11-14 17:30:00</td>\n",
       "      <td>0.0</td>\n",
       "      <td>0.0</td>\n",
       "      <td>4738.0</td>\n",
       "      <td>1</td>\n",
       "      <td>1</td>\n",
       "    </tr>\n",
       "    <tr>\n",
       "      <th>2019-11-14 17:35:00</th>\n",
       "      <td>2019-11-14 17:35:00</td>\n",
       "      <td>0.0</td>\n",
       "      <td>0.0</td>\n",
       "      <td>4738.0</td>\n",
       "      <td>1</td>\n",
       "      <td>1</td>\n",
       "    </tr>\n",
       "    <tr>\n",
       "      <th>2019-11-14 17:40:00</th>\n",
       "      <td>2019-11-14 17:40:00</td>\n",
       "      <td>0.0</td>\n",
       "      <td>0.0</td>\n",
       "      <td>4738.0</td>\n",
       "      <td>1</td>\n",
       "      <td>1</td>\n",
       "    </tr>\n",
       "    <tr>\n",
       "      <th>2019-11-14 17:45:00</th>\n",
       "      <td>2019-11-14 17:45:00</td>\n",
       "      <td>0.0</td>\n",
       "      <td>0.0</td>\n",
       "      <td>4738.0</td>\n",
       "      <td>1</td>\n",
       "      <td>1</td>\n",
       "    </tr>\n",
       "    <tr>\n",
       "      <th>2019-11-14 17:50:00</th>\n",
       "      <td>2019-11-14 17:50:00</td>\n",
       "      <td>0.0</td>\n",
       "      <td>0.0</td>\n",
       "      <td>4738.0</td>\n",
       "      <td>1</td>\n",
       "      <td>1</td>\n",
       "    </tr>\n",
       "    <tr>\n",
       "      <th>...</th>\n",
       "      <td>...</td>\n",
       "      <td>...</td>\n",
       "      <td>...</td>\n",
       "      <td>...</td>\n",
       "      <td>...</td>\n",
       "      <td>...</td>\n",
       "    </tr>\n",
       "    <tr>\n",
       "      <th>2019-11-21 01:35:00</th>\n",
       "      <td>2019-11-21 01:35:00</td>\n",
       "      <td>0.0</td>\n",
       "      <td>0.0</td>\n",
       "      <td>4751.0</td>\n",
       "      <td>1</td>\n",
       "      <td>1</td>\n",
       "    </tr>\n",
       "    <tr>\n",
       "      <th>2019-11-21 01:40:00</th>\n",
       "      <td>2019-11-21 01:40:00</td>\n",
       "      <td>0.0</td>\n",
       "      <td>0.0</td>\n",
       "      <td>4751.0</td>\n",
       "      <td>1</td>\n",
       "      <td>1</td>\n",
       "    </tr>\n",
       "    <tr>\n",
       "      <th>2019-11-21 01:45:00</th>\n",
       "      <td>2019-11-21 01:45:00</td>\n",
       "      <td>0.0</td>\n",
       "      <td>0.0</td>\n",
       "      <td>4751.0</td>\n",
       "      <td>1</td>\n",
       "      <td>1</td>\n",
       "    </tr>\n",
       "    <tr>\n",
       "      <th>2019-11-21 01:50:00</th>\n",
       "      <td>2019-11-21 01:50:00</td>\n",
       "      <td>0.0</td>\n",
       "      <td>0.0</td>\n",
       "      <td>4751.0</td>\n",
       "      <td>1</td>\n",
       "      <td>1</td>\n",
       "    </tr>\n",
       "    <tr>\n",
       "      <th>2019-11-21 01:55:00</th>\n",
       "      <td>2019-11-21 01:55:00</td>\n",
       "      <td>0.0</td>\n",
       "      <td>0.0</td>\n",
       "      <td>4751.0</td>\n",
       "      <td>1</td>\n",
       "      <td>1</td>\n",
       "    </tr>\n",
       "  </tbody>\n",
       "</table>\n",
       "<p>604 rows × 6 columns</p>\n",
       "</div>"
      ],
      "text/plain": [
       "                           datetime_utc  slack_conversation_read_count  \\\n",
       "2019-11-14 17:30:00 2019-11-14 17:30:00                            0.0   \n",
       "2019-11-14 17:35:00 2019-11-14 17:35:00                            0.0   \n",
       "2019-11-14 17:40:00 2019-11-14 17:40:00                            0.0   \n",
       "2019-11-14 17:45:00 2019-11-14 17:45:00                            0.0   \n",
       "2019-11-14 17:50:00 2019-11-14 17:50:00                            0.0   \n",
       "...                                 ...                            ...   \n",
       "2019-11-21 01:35:00 2019-11-21 01:35:00                            0.0   \n",
       "2019-11-21 01:40:00 2019-11-21 01:40:00                            0.0   \n",
       "2019-11-21 01:45:00 2019-11-21 01:45:00                            0.0   \n",
       "2019-11-21 01:50:00 2019-11-21 01:50:00                            0.0   \n",
       "2019-11-21 01:55:00 2019-11-21 01:55:00                            0.0   \n",
       "\n",
       "                     slack_user_event_count  google_calendar_event_id  \\\n",
       "2019-11-14 17:30:00                     0.0                    4738.0   \n",
       "2019-11-14 17:35:00                     0.0                    4738.0   \n",
       "2019-11-14 17:40:00                     0.0                    4738.0   \n",
       "2019-11-14 17:45:00                     0.0                    4738.0   \n",
       "2019-11-14 17:50:00                     0.0                    4738.0   \n",
       "...                                     ...                       ...   \n",
       "2019-11-21 01:35:00                     0.0                    4751.0   \n",
       "2019-11-21 01:40:00                     0.0                    4751.0   \n",
       "2019-11-21 01:45:00                     0.0                    4751.0   \n",
       "2019-11-21 01:50:00                     0.0                    4751.0   \n",
       "2019-11-21 01:55:00                     0.0                    4751.0   \n",
       "\n",
       "                     google_calendar_event_count  in_meeting  \n",
       "2019-11-14 17:30:00                            1           1  \n",
       "2019-11-14 17:35:00                            1           1  \n",
       "2019-11-14 17:40:00                            1           1  \n",
       "2019-11-14 17:45:00                            1           1  \n",
       "2019-11-14 17:50:00                            1           1  \n",
       "...                                          ...         ...  \n",
       "2019-11-21 01:35:00                            1           1  \n",
       "2019-11-21 01:40:00                            1           1  \n",
       "2019-11-21 01:45:00                            1           1  \n",
       "2019-11-21 01:50:00                            1           1  \n",
       "2019-11-21 01:55:00                            1           1  \n",
       "\n",
       "[604 rows x 6 columns]"
      ]
     },
     "execution_count": 16,
     "metadata": {},
     "output_type": "execute_result"
    }
   ],
   "source": [
    "user_datas[0].loc[(user_datas[0]['google_calendar_event_count'] > 0)]"
   ]
  },
  {
   "cell_type": "code",
   "execution_count": null,
   "metadata": {},
   "outputs": [],
   "source": [
    "from application.models import GoogleCalendarEvent"
   ]
  },
  {
   "cell_type": "code",
   "execution_count": null,
   "metadata": {},
   "outputs": [],
   "source": [
    "gce1 = GoogleCalendarEvent.query.filter(GoogleCalendarEvent.id == 4851).first()\n",
    "gce1"
   ]
  },
  {
   "cell_type": "code",
   "execution_count": null,
   "metadata": {},
   "outputs": [],
   "source": [
    "import json\n",
    "json.loads(gce1.json_data)"
   ]
  },
  {
   "cell_type": "code",
   "execution_count": null,
   "metadata": {},
   "outputs": [],
   "source": [
    "du.collaboration_activity_data_for_given_period?"
   ]
  },
  {
   "cell_type": "code",
   "execution_count": null,
   "metadata": {},
   "outputs": [],
   "source": [
    "dt.datetime"
   ]
  },
  {
   "cell_type": "code",
   "execution_count": null,
   "metadata": {},
   "outputs": [],
   "source": []
  },
  {
   "cell_type": "code",
   "execution_count": null,
   "metadata": {},
   "outputs": [],
   "source": []
  },
  {
   "cell_type": "code",
   "execution_count": null,
   "metadata": {},
   "outputs": [],
   "source": []
  }
 ],
 "metadata": {
  "kernelspec": {
   "display_name": "Python 3",
   "language": "python",
   "name": "python3"
  },
  "language_info": {
   "codemirror_mode": {
    "name": "ipython",
    "version": 3
   },
   "file_extension": ".py",
   "mimetype": "text/x-python",
   "name": "python",
   "nbconvert_exporter": "python",
   "pygments_lexer": "ipython3",
   "version": "3.6.3"
  }
 },
 "nbformat": 4,
 "nbformat_minor": 2
}
