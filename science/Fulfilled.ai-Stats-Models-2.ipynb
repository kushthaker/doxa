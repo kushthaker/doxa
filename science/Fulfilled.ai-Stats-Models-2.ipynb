{
 "cells": [
  {
   "cell_type": "code",
   "execution_count": 1,
   "metadata": {},
   "outputs": [],
   "source": [
    "import os, sys\n",
    "sys.path.append(os.path.dirname(os.path.dirname(os.path.abspath('application/'))))"
   ]
  },
  {
   "cell_type": "code",
   "execution_count": 2,
   "metadata": {},
   "outputs": [
    {
     "name": "stdout",
     "output_type": "stream",
     "text": [
      "USING VARIABLE LOCAL\n"
     ]
    }
   ],
   "source": [
    "from application.models import User\n",
    "from application.applied_science import data_utils as du\n",
    "import datetime as dt"
   ]
  },
  {
   "cell_type": "code",
   "execution_count": 3,
   "metadata": {},
   "outputs": [],
   "source": [
    "user = User.query.all()[-2]"
   ]
  },
  {
   "cell_type": "code",
   "execution_count": 79,
   "metadata": {},
   "outputs": [],
   "source": [
    "from numpy.lib.stride_tricks import as_strided as stride\n",
    "import datetime as dt\n",
    "import pandas as pd\n",
    "from application.models import GoogleCalendarEvent, SlackUserEvent, SlackConversationRead\n",
    "import numpy as np\n",
    "from sqlalchemy import any_\n",
    "import math\n",
    "\n",
    "def roll(df, w, **kwargs):\n",
    "  # returns iterable of DataFrames each having some length (for window-type functions)\n",
    "  v = df.values\n",
    "  d0, d1 = v.shape\n",
    "  s0, s1 = v.strides\n",
    "\n",
    "  a = stride(v, (d0 - (w - 1), w, d1), (s0, s0, s1))\n",
    "\n",
    "  rolled_df = pd.concat({\n",
    "      row: pd.DataFrame(values, columns=df.columns)\n",
    "      for row, values in zip(df.index, a)\n",
    "  })\n",
    "  return rolled_df.groupby(level=0, **kwargs)\n",
    "\n",
    "def convert_to_user_timezone_function(slack_timezone_offset):\n",
    "  return lambda datetime: datetime + dt.timedelta(hours=slack_timezone_offset / 3600.0)\n",
    "\n",
    "# this is functional programming: it returns a callable function\n",
    "def convert_to_utc_timezone_function(slack_timezone_offset):\n",
    "  return lambda datetime: datetime - dt.timedelta(hours=slack_timezone_offset / 3600.0)\n",
    "\n",
    "def build_google_calendar_event_date_filter(start_utc_datetime, end_utc_datetime):\n",
    "  start_between_filter = (GoogleCalendarEvent.start_time >= start_utc_datetime) \\\n",
    "    & (GoogleCalendarEvent.start_time < end_utc_datetime)\n",
    "  end_between_filter = (GoogleCalendarEvent.end_time >= start_utc_datetime) \\\n",
    "    & (GoogleCalendarEvent.end_time < end_utc_datetime)\n",
    "  encompass_filter = (GoogleCalendarEvent.start_time < start_utc_datetime) \\\n",
    "    & (GoogleCalendarEvent.end_time > end_utc_datetime)\n",
    "  return start_between_filter | end_between_filter | encompass_filter\n",
    "\n",
    "def build_slack_user_event_date_filter(start_utc_datetime, end_utc_datetime):\n",
    "  return (SlackUserEvent.event_datetime >= start_utc_datetime) & (SlackUserEvent.event_datetime < end_utc_datetime) \\\n",
    "    & (SlackUserEvent.slack_event_type == any_(['message', 'reaction_added', 'reaction_removed']))\n",
    "\n",
    "def build_slack_conversation_read_date_filter(start_utc_datetime, end_utc_datetime):\n",
    "  return (SlackConversationRead.period_start_datetime >= start_utc_datetime) \\\n",
    "    & (SlackConversationRead.period_start_datetime < end_utc_datetime)\n",
    "\n",
    "def create_pandas_datetime_series(start, end, frequency='5T'):\n",
    "  '''\n",
    "    start: the desired start time of the timeseries\n",
    "    end: the desired end time of the time series\n",
    "    frequency: optional, the frequency at which time indices occur in the series (default is '5T', or five minutes)\n",
    "  '''\n",
    "  return pd.date_range(start=start,end=end, freq=frequency)\n",
    "\n",
    "def rounddown_next_5min(event_datetime):\n",
    "  event_datetime = pd.Timestamp(event_datetime)\n",
    "  nsecs = event_datetime.minute*60 + event_datetime.second + event_datetime.microsecond*1e-6\n",
    "  delta = -math.floor(nsecs / 300) * 300 + nsecs\n",
    "  return event_datetime - dt.timedelta(seconds=delta)\n",
    "\n",
    "vector_rounddown_next_5min = np.vectorize(rounddown_next_5min) # allows this function to be called on dataframe column\n",
    "\n",
    "str_index_fnc = lambda real_datetime: str(real_datetime)\n",
    "str_index_fnc_vec = np.vectorize(str_index_fnc)\n",
    "\n",
    "def add_time_delta_to_time(time, delta):\n",
    "  new_datetime = dt.date(1996, 2, 7)\n",
    "  return (dt.datetime.combine(new_datetime, time) + delta).time()\n",
    "\n",
    "def workday_time_filter(df, local_start_time=(8, 30), local_end_time=(17, 30), hour_timezone_offset=-5):\n",
    "  '''\n",
    "    df: activity dataframe with datetime index\n",
    "    local_start_time: user's hours / minutes for their day start, in a tuple\n",
    "    local_start_time: user's hours / minutes for their day end, in a tuple\n",
    "    hour_timezone_offset: user's timezone offset from UTC, in hours. Defaults to -5: (ET)\n",
    "  '''\n",
    "  start_time_utc = add_time_delta_to_time(dt.time(*local_start_time), dt.timedelta(hours=hour_timezone_offset))\n",
    "  end_time_utc = add_time_delta_to_time(dt.time(*local_end_time), dt.timedelta(hours=hour_timezone_offset))\n",
    "  return df.loc[(df.index.time >= start_time_utc) & (df.index.time < end_time_utc)]\n",
    "\n",
    "def workday_weekend_filter(df, weekend_days=(5, 6), hour_timezone_offset=-5):\n",
    "  '''\n",
    "    df: activity dataframe with datetime index\n",
    "    weekend_days: tuple or list with day numbers corresponding to weekend days. Defaults to (5, 6) (Saturday / Sunday)\n",
    "    hour_timezone_offset: user's timezone offset from UTC, in hours. Defaults to -5: (ET)\n",
    "  '''\n",
    "  weekend_days = set(weekend_days)\n",
    "  return df.loc[(df.index + dt.timedelta(hours=hour_timezone_offset)).weekday.isin(weekend_days) == False]\n",
    "\n",
    "def deepwork_streak_calculation(df, collab_func=None, streak_length=3, interruption_period_length=2):\n",
    "  '''\n",
    "    df: pandas Dataframe with datetime index. The index should have\n",
    "      periods which have an even separation (standard is five minutes)\n",
    "    streak_length: the minimum number of periods without collaborative time determining whether focused work has begun\n",
    "    collab_func: the function which gets passed a set of periods to determine whether collaborative time has occurred\n",
    "    interruption_period_length: the number of periods required for a period of focused work time to be considered \n",
    "    \"interrupted\".\n",
    "    A streak is assumed to occur if collaborative time has not occurred for the minimum streak length\n",
    "  '''\n",
    "\n",
    "  # periods are 5 minutes each\n",
    "  REQ_STREAK_LENGTH_PERIODS = streak_length\n",
    "  INTERRUPTION_PERIOD_LENGTH = interruption_period_length\n",
    "  PERIOD_LENGTH = dt.timedelta(minutes=5)\n",
    "  \n",
    "  # keeping track of state across looks\n",
    "  streak = pd.Series(index=df.index) # needs to be pandas._libs.tslibs.timestamps.Timestamp series\n",
    "  dumb = pd.Series([1, 2, 3])\n",
    "  streak_start = None\n",
    "  in_streak = False\n",
    "  final_period = df.index[-1]\n",
    "  def get_streak(mini_df):\n",
    "    nonlocal streak, streak_start, in_streak, final_period\n",
    "    interrupt_index = mini_df.index[-INTERRUPTION_PERIOD_LENGTH:]\n",
    "    final_index = mini_df.index[-1][0] + PERIOD_LENGTH*(REQ_STREAK_LENGTH_PERIODS - 1)\n",
    "    \n",
    "    if collab_func(mini_df.loc[interrupt_index], min_interrupt_len=INTERRUPTION_PERIOD_LENGTH):\n",
    "      if in_streak:\n",
    "        streak[final_index] = streak_start\n",
    "        in_streak = False\n",
    "        streak_start = None\n",
    "    else:\n",
    "      if not in_streak:\n",
    "        # checking fully uninterrupted time\n",
    "        if not collab_func(mini_df, min_interrupt_len=INTERRUPTION_PERIOD_LENGTH):\n",
    "          in_streak = True\n",
    "          streak_start = mini_df.index[0][0]\n",
    "      if (final_index == final_period) & in_streak:\n",
    "        streak[final_period] = streak_start\n",
    "    \n",
    "  roll(df, REQ_STREAK_LENGTH_PERIODS).apply(get_streak)\n",
    "\n",
    "  return streak\n",
    "\n",
    "# can likely change these arguments to kwargs later to make this stuff more generalizable\n",
    "def is_collaborative_time(df, min_interrupt_len=None, \\\n",
    "  min_interrupt_read_amount=1, min_interrupt_send_amount=1):\n",
    "  '''\n",
    "    df: a short period pandas Dataframe which can be looked at to determine whether\n",
    "      this period contains collaborative time.\n",
    "    min_interrupt_len: the minimum interrupt length required to determine\n",
    "      whether an interruption to focused work time\n",
    "    min_interrupt_read_amount: the minimum number of reads which must occur in a period to determine\n",
    "      whether message reads make the period \"collaborative\"\n",
    "    min_interrupt_send_amount: the minimum number of sends which must occur in a period to determine\n",
    "      whether message sends make the period \"collaborative\"\n",
    "  '''\n",
    "  if not min_interrupt_len:\n",
    "    min_interrupt_len = len(df)\n",
    "  read_interruptions = df[SLACK_CONVERSATION_READ_COLUMN_NAME] >= min_interrupt_read_amount\n",
    "  user_event_interruptions = df[SLACK_USER_EVENT_COLUMN_NAME] >= min_interrupt_send_amount\n",
    "  if len(df.loc[read_interruptions | user_event_interruptions]) >= min_interrupt_len:\n",
    "    return True\n",
    "  return False\n",
    "\n",
    "def is_collaborative_naive(df, min_interrupt_len=1):\n",
    "  '''\n",
    "    df: a short period pandas Dataframe which can be looked at to determine\n",
    "      whether this period contains collaborative time.\n",
    "    min_interrupt_len: the minimum interrupt length required to determine\n",
    "      whether an interruption to focused work time\n",
    "  '''\n",
    "  read_interruptions = df[SLACK_CONVERSATION_READ_COLUMN_NAME] >= 1\n",
    "  user_event_interruptions = df[SLACK_USER_EVENT_COLUMN_NAME] >= 1\n",
    "  if len(df.loc[read_interruptions | user_event_interruptions]) >= 1:\n",
    "    return True\n",
    "  return len(df.loc[read_interruptions | user_event_interruptions] >= 1)\n",
    "\n",
    "def slack_user_event_data(user, start_datetime_utc, end_datetime_utc):\n",
    "  '''\n",
    "    user: a User model, from which data will be queried\n",
    "    start_datetime_utc: the start datetime where data will be queried from, in UTC\n",
    "    end_datetime_utc: the end datetime where data will be queried from, in UTC\n",
    "    ----\n",
    "    returns a raw pandas Dataframe of the SlackUserEvent model which falls in the given timeframe\n",
    "  '''\n",
    "  slack_user_event_filter = (SlackUserEvent.slack_user_id == user.slack_user.id) & \\\n",
    "  build_slack_user_event_date_filter(start_datetime_utc, end_datetime_utc)\n",
    "  slack_user_event_df = pd.read_sql(SlackUserEvent.query.filter(\\\n",
    "                          slack_user_event_filter).statement, SlackUserEvent.query.session.bind)\n",
    "  return slack_user_event_df\n",
    "  \n",
    "def slack_conversation_read_data(user, start_datetime_utc, end_datetime_utc):\n",
    "  '''\n",
    "    user: a User model, from which data will be queried\n",
    "    start_datetime_utc: the start datetime where data will be queried from, in UTC\n",
    "    end_datetime_utc: the end datetime where data will be queried from, in UTC\n",
    "    ----\n",
    "    returns a raw pandas Dataframe of the SlackConversationRead model which falls in the given timeframe\n",
    "  '''\n",
    "  slack_conversation_read_filter = \\\n",
    "    (SlackConversationRead.slack_user_id == user.slack_user.id) \\\n",
    "    & build_slack_conversation_read_date_filter(start_datetime_utc, end_datetime_utc)\n",
    "  slack_conversation_read_df = pd.read_sql(SlackConversationRead.query.filter(slack_conversation_read_filter) \\\n",
    "                                           .statement, SlackConversationRead.query.session.bind)\n",
    "  return slack_conversation_read_df\n",
    "\n",
    "\n",
    "def google_calendar_event_data(user, start_datetime_utc, end_datetime_utc, df=False):\n",
    "  '''\n",
    "    user: User model object, from which data will be queried\n",
    "    start_datetime_utc: the start datetime.datetime where data will be queried from, in UTC\n",
    "    end_datetime_utc: the end datetime.datetime where data will be queried from, in UTC\n",
    "    df: boolean\n",
    "    ----\n",
    "    returns a raw pandas Dataframe of the SlackConversationRead model which falls in the given timeframe (if `df` is \n",
    "    set to True), otherwise returns a list of GoogleCalendarEvent objects\n",
    "  '''\n",
    "  google_calendar_event_filter = (GoogleCalendarEvent.google_calendar_user_id == \\\n",
    "                                    user.google_calendar_user.id) \\\n",
    "                                    & build_google_calendar_event_date_filter(start_datetime_utc, end_datetime_utc)\n",
    "  if df:\n",
    "    google_calendar_event_df = pd.read_sql(GoogleCalendarEvent.query.filter \\\n",
    "                                (google_calendar_event_filter).statement, GoogleCalendarEvent.query.session.bind)\n",
    "    return google_calendar_event_df\n",
    "  google_calendar_events = GoogleCalendarEvent.query.filter(google_calendar_event_filter).all()\n",
    "  return google_calendar_events\n",
    "\n",
    "def collaboration_activity_data_for_given_period(user, start_datetime_utc, end_datetime_utc):\n",
    "  '''\n",
    "    user: User model object, from which data will be queried\n",
    "    start_datetime_utc: the start datetime.datetime where data will be queried from, in UTC\n",
    "    end_datetime_utc: the end datetime.datetime where data will be queried from, in UTC\n",
    "    df: boolean\n",
    "    ----\n",
    "    returns a pandas Dataframe of the user's activity with the following columns:\n",
    "    documentation TODO\n",
    "  '''  \n",
    "  slack_user_event_df = slack_user_event_data(user, start_datetime_utc, end_datetime_utc)\n",
    "  slack_conversation_read_df = slack_conversation_read_data(user, start_datetime_utc, end_datetime_utc)\n",
    "  google_calendar_events = google_calendar_event_data(user, start_datetime_utc, end_datetime_utc)\n",
    "\n",
    "  slack_conversation_read_df['rounded_period_start_datetime'] = \\\n",
    "    vector_rounddown_next_5min(slack_conversation_read_df['period_start_datetime'])\n",
    "  slack_conversation_read_series = slack_conversation_read_df.groupby( \\\n",
    "                                  by=['rounded_period_start_datetime']).count()['id']\n",
    "  \n",
    "  slack_user_event_df['rounded_event_datetime'] = vector_rounddown_next_5min(slack_user_event_df['event_datetime'])\n",
    "  slack_user_event_series = slack_user_event_df.groupby(by=['rounded_event_datetime']).count()['id']\n",
    "\n",
    "  datetime_index = pd.DatetimeIndex(pd.date_range(start=start_datetime_utc, end=end_datetime_utc, freq='5T'))\n",
    "  activity_df = pd.DataFrame(datetime_index, index=datetime_index, columns=['datetime_utc'])\n",
    "  \n",
    "  activity_df['slack_conversation_read_count'] = slack_conversation_read_series\n",
    "  activity_df['slack_conversation_read_count'] = activity_df['slack_conversation_read_count'].fillna(0)\n",
    "  \n",
    "  activity_df['slack_user_event_count'] = slack_user_event_series\n",
    "  activity_df['slack_user_event_count'] = activity_df['slack_user_event_count'].fillna(0)\n",
    "\n",
    "  activity_df['google_calendar_event_count'] = 0\n",
    "\n",
    "  for event in google_calendar_events:\n",
    "    for calendar_event in gce:\n",
    "      activity_df.loc[(activity_df.index >= calendar_event.start_time) \\\n",
    "                      & (activity_df.index < calendar_event.end_time), \\\n",
    "                      ['google_calendar_event_count']] += 1\n",
    "  activity_df['in_meeting'] = activity_df['google_calendar_event_count'] > 0\n",
    "  activity_df.name = f'Collaboration data for User {user.id} from f{start_datetime_utc} to f{end_datetime_utc}'\n",
    "  return activity_df\n"
   ]
  },
  {
   "cell_type": "code",
   "execution_count": 80,
   "metadata": {},
   "outputs": [],
   "source": [
    "WEEKDAY_OFFSET = 2 # makes beginning of week Saturday, end of week is Friday\n",
    "user_tz_conversion_function = convert_to_user_timezone_function(user.slack_user.slack_timezone_offset)\n",
    "utc_tz_conversion_function = convert_to_utc_timezone_function(user.slack_user.slack_timezone_offset)\n",
    "\n",
    "current_user_local_time = user_tz_conversion_function(dt.datetime.utcnow()) - dt.timedelta(days=1)\n",
    "\n",
    "# finding Sunday before current time\n",
    "start_week_local_time = current_user_local_time - \\\n",
    "          dt.timedelta(days=current_user_local_time.weekday() + WEEKDAY_OFFSET)\n",
    "start_week_local_time = dt.datetime(\n",
    "                          year = start_week_local_time.year,\n",
    "                          month = start_week_local_time.month,\n",
    "                          day = start_week_local_time.day,\n",
    "                          hour = 0,\n",
    "                          minute = 0,\n",
    "                          second = 0,\n",
    "                          microsecond = 0)\n",
    "\n",
    "# finding Saturday after current time\n",
    "end_week_local_time = current_user_local_time + \\\n",
    "            dt.timedelta(days=(7 - current_user_local_time.weekday() - WEEKDAY_OFFSET))\n",
    "end_week_local_time = dt.datetime(\n",
    "                        year = end_week_local_time.year,\n",
    "                        month = end_week_local_time.month,\n",
    "                        day = end_week_local_time.day,\n",
    "                        hour = 23,\n",
    "                        minute = 59,\n",
    "                        second = 59,\n",
    "                        microsecond = 999999)\n",
    "\n",
    "start_week_utc_time = utc_tz_conversion_function(start_week_local_time)\n",
    "end_week_utc_time = utc_tz_conversion_function(end_week_local_time)\n",
    "\n"
   ]
  },
  {
   "cell_type": "code",
   "execution_count": 81,
   "metadata": {},
   "outputs": [
    {
     "data": {
      "text/plain": [
       "datetime.datetime(2020, 2, 9, 4, 59, 59, 999999)"
      ]
     },
     "execution_count": 81,
     "metadata": {},
     "output_type": "execute_result"
    }
   ],
   "source": [
    "end_week_utc_time"
   ]
  },
  {
   "cell_type": "code",
   "execution_count": 82,
   "metadata": {},
   "outputs": [
    {
     "data": {
      "text/html": [
       "<div>\n",
       "<style scoped>\n",
       "    .dataframe tbody tr th:only-of-type {\n",
       "        vertical-align: middle;\n",
       "    }\n",
       "\n",
       "    .dataframe tbody tr th {\n",
       "        vertical-align: top;\n",
       "    }\n",
       "\n",
       "    .dataframe thead th {\n",
       "        text-align: right;\n",
       "    }\n",
       "</style>\n",
       "<table border=\"1\" class=\"dataframe\">\n",
       "  <thead>\n",
       "    <tr style=\"text-align: right;\">\n",
       "      <th></th>\n",
       "      <th>datetime_utc</th>\n",
       "      <th>slack_conversation_read_count</th>\n",
       "      <th>slack_user_event_count</th>\n",
       "      <th>google_calendar_event_count</th>\n",
       "      <th>in_meeting</th>\n",
       "    </tr>\n",
       "  </thead>\n",
       "  <tbody>\n",
       "    <tr>\n",
       "      <th>2020-02-01 05:00:00</th>\n",
       "      <td>2020-02-01 05:00:00</td>\n",
       "      <td>0.0</td>\n",
       "      <td>0.0</td>\n",
       "      <td>0</td>\n",
       "      <td>False</td>\n",
       "    </tr>\n",
       "    <tr>\n",
       "      <th>2020-02-01 05:05:00</th>\n",
       "      <td>2020-02-01 05:05:00</td>\n",
       "      <td>0.0</td>\n",
       "      <td>0.0</td>\n",
       "      <td>0</td>\n",
       "      <td>False</td>\n",
       "    </tr>\n",
       "    <tr>\n",
       "      <th>2020-02-01 05:10:00</th>\n",
       "      <td>2020-02-01 05:10:00</td>\n",
       "      <td>0.0</td>\n",
       "      <td>0.0</td>\n",
       "      <td>0</td>\n",
       "      <td>False</td>\n",
       "    </tr>\n",
       "    <tr>\n",
       "      <th>2020-02-01 05:15:00</th>\n",
       "      <td>2020-02-01 05:15:00</td>\n",
       "      <td>0.0</td>\n",
       "      <td>0.0</td>\n",
       "      <td>0</td>\n",
       "      <td>False</td>\n",
       "    </tr>\n",
       "    <tr>\n",
       "      <th>2020-02-01 05:20:00</th>\n",
       "      <td>2020-02-01 05:20:00</td>\n",
       "      <td>0.0</td>\n",
       "      <td>0.0</td>\n",
       "      <td>0</td>\n",
       "      <td>False</td>\n",
       "    </tr>\n",
       "    <tr>\n",
       "      <th>...</th>\n",
       "      <td>...</td>\n",
       "      <td>...</td>\n",
       "      <td>...</td>\n",
       "      <td>...</td>\n",
       "      <td>...</td>\n",
       "    </tr>\n",
       "    <tr>\n",
       "      <th>2020-02-09 04:35:00</th>\n",
       "      <td>2020-02-09 04:35:00</td>\n",
       "      <td>0.0</td>\n",
       "      <td>0.0</td>\n",
       "      <td>0</td>\n",
       "      <td>False</td>\n",
       "    </tr>\n",
       "    <tr>\n",
       "      <th>2020-02-09 04:40:00</th>\n",
       "      <td>2020-02-09 04:40:00</td>\n",
       "      <td>0.0</td>\n",
       "      <td>0.0</td>\n",
       "      <td>0</td>\n",
       "      <td>False</td>\n",
       "    </tr>\n",
       "    <tr>\n",
       "      <th>2020-02-09 04:45:00</th>\n",
       "      <td>2020-02-09 04:45:00</td>\n",
       "      <td>0.0</td>\n",
       "      <td>0.0</td>\n",
       "      <td>0</td>\n",
       "      <td>False</td>\n",
       "    </tr>\n",
       "    <tr>\n",
       "      <th>2020-02-09 04:50:00</th>\n",
       "      <td>2020-02-09 04:50:00</td>\n",
       "      <td>0.0</td>\n",
       "      <td>0.0</td>\n",
       "      <td>0</td>\n",
       "      <td>False</td>\n",
       "    </tr>\n",
       "    <tr>\n",
       "      <th>2020-02-09 04:55:00</th>\n",
       "      <td>2020-02-09 04:55:00</td>\n",
       "      <td>0.0</td>\n",
       "      <td>0.0</td>\n",
       "      <td>0</td>\n",
       "      <td>False</td>\n",
       "    </tr>\n",
       "  </tbody>\n",
       "</table>\n",
       "<p>2304 rows × 5 columns</p>\n",
       "</div>"
      ],
      "text/plain": [
       "                           datetime_utc  slack_conversation_read_count  \\\n",
       "2020-02-01 05:00:00 2020-02-01 05:00:00                            0.0   \n",
       "2020-02-01 05:05:00 2020-02-01 05:05:00                            0.0   \n",
       "2020-02-01 05:10:00 2020-02-01 05:10:00                            0.0   \n",
       "2020-02-01 05:15:00 2020-02-01 05:15:00                            0.0   \n",
       "2020-02-01 05:20:00 2020-02-01 05:20:00                            0.0   \n",
       "...                                 ...                            ...   \n",
       "2020-02-09 04:35:00 2020-02-09 04:35:00                            0.0   \n",
       "2020-02-09 04:40:00 2020-02-09 04:40:00                            0.0   \n",
       "2020-02-09 04:45:00 2020-02-09 04:45:00                            0.0   \n",
       "2020-02-09 04:50:00 2020-02-09 04:50:00                            0.0   \n",
       "2020-02-09 04:55:00 2020-02-09 04:55:00                            0.0   \n",
       "\n",
       "                     slack_user_event_count  google_calendar_event_count  \\\n",
       "2020-02-01 05:00:00                     0.0                            0   \n",
       "2020-02-01 05:05:00                     0.0                            0   \n",
       "2020-02-01 05:10:00                     0.0                            0   \n",
       "2020-02-01 05:15:00                     0.0                            0   \n",
       "2020-02-01 05:20:00                     0.0                            0   \n",
       "...                                     ...                          ...   \n",
       "2020-02-09 04:35:00                     0.0                            0   \n",
       "2020-02-09 04:40:00                     0.0                            0   \n",
       "2020-02-09 04:45:00                     0.0                            0   \n",
       "2020-02-09 04:50:00                     0.0                            0   \n",
       "2020-02-09 04:55:00                     0.0                            0   \n",
       "\n",
       "                     in_meeting  \n",
       "2020-02-01 05:00:00       False  \n",
       "2020-02-01 05:05:00       False  \n",
       "2020-02-01 05:10:00       False  \n",
       "2020-02-01 05:15:00       False  \n",
       "2020-02-01 05:20:00       False  \n",
       "...                         ...  \n",
       "2020-02-09 04:35:00       False  \n",
       "2020-02-09 04:40:00       False  \n",
       "2020-02-09 04:45:00       False  \n",
       "2020-02-09 04:50:00       False  \n",
       "2020-02-09 04:55:00       False  \n",
       "\n",
       "[2304 rows x 5 columns]"
      ]
     },
     "execution_count": 82,
     "metadata": {},
     "output_type": "execute_result"
    }
   ],
   "source": [
    "adf = collaboration_activity_data_for_given_period(user, start_week_utc_time, end_week_utc_time)\n",
    "adf"
   ]
  },
  {
   "cell_type": "code",
   "execution_count": 57,
   "metadata": {},
   "outputs": [],
   "source": [
    "col = np.empty((len(adf),), object)\n",
    "col.fill([])\n",
    "adf['google_calendar_event_id'] = col"
   ]
  },
  {
   "cell_type": "code",
   "execution_count": 53,
   "metadata": {},
   "outputs": [
    {
     "data": {
      "text/plain": [
       "dtype('O')"
      ]
     },
     "execution_count": 53,
     "metadata": {},
     "output_type": "execute_result"
    }
   ],
   "source": [
    "adf['google_calendar_event_id'].dtype"
   ]
  },
  {
   "cell_type": "code",
   "execution_count": 54,
   "metadata": {},
   "outputs": [],
   "source": [
    "def append_to_list(lis, thing):\n",
    "  return lis + [thing]\n",
    "\n",
    "vec_A2L = np.vectorize(append_to_list)"
   ]
  },
  {
   "cell_type": "code",
   "execution_count": 55,
   "metadata": {},
   "outputs": [
    {
     "ename": "ValueError",
     "evalue": "setting an array element with a sequence.",
     "output_type": "error",
     "traceback": [
      "\u001b[0;31m---------------------------------------------------------------------------\u001b[0m",
      "\u001b[0;31mTypeError\u001b[0m                                 Traceback (most recent call last)",
      "\u001b[0;31mTypeError\u001b[0m: int() argument must be a string, a bytes-like object or a number, not 'list'",
      "\nThe above exception was the direct cause of the following exception:\n",
      "\u001b[0;31mValueError\u001b[0m                                Traceback (most recent call last)",
      "\u001b[0;32m<ipython-input-55-f298a1e71de6>\u001b[0m in \u001b[0;36m<module>\u001b[0;34m()\u001b[0m\n\u001b[0;32m----> 1\u001b[0;31m \u001b[0mvec_A2L\u001b[0m\u001b[0;34m(\u001b[0m\u001b[0madf\u001b[0m\u001b[0;34m[\u001b[0m\u001b[0;34m'google_calendar_event_id'\u001b[0m\u001b[0;34m]\u001b[0m\u001b[0;34m,\u001b[0m \u001b[0;36m1\u001b[0m\u001b[0;34m)\u001b[0m\u001b[0;34m\u001b[0m\u001b[0m\n\u001b[0m",
      "\u001b[0;32m~/anaconda3/envs/py_36/lib/python3.6/site-packages/numpy/lib/function_base.py\u001b[0m in \u001b[0;36m__call__\u001b[0;34m(self, *args, **kwargs)\u001b[0m\n\u001b[1;32m   2089\u001b[0m             \u001b[0mvargs\u001b[0m\u001b[0;34m.\u001b[0m\u001b[0mextend\u001b[0m\u001b[0;34m(\u001b[0m\u001b[0;34m[\u001b[0m\u001b[0mkwargs\u001b[0m\u001b[0;34m[\u001b[0m\u001b[0m_n\u001b[0m\u001b[0;34m]\u001b[0m \u001b[0;32mfor\u001b[0m \u001b[0m_n\u001b[0m \u001b[0;32min\u001b[0m \u001b[0mnames\u001b[0m\u001b[0;34m]\u001b[0m\u001b[0;34m)\u001b[0m\u001b[0;34m\u001b[0m\u001b[0m\n\u001b[1;32m   2090\u001b[0m \u001b[0;34m\u001b[0m\u001b[0m\n\u001b[0;32m-> 2091\u001b[0;31m         \u001b[0;32mreturn\u001b[0m \u001b[0mself\u001b[0m\u001b[0;34m.\u001b[0m\u001b[0m_vectorize_call\u001b[0m\u001b[0;34m(\u001b[0m\u001b[0mfunc\u001b[0m\u001b[0;34m=\u001b[0m\u001b[0mfunc\u001b[0m\u001b[0;34m,\u001b[0m \u001b[0margs\u001b[0m\u001b[0;34m=\u001b[0m\u001b[0mvargs\u001b[0m\u001b[0;34m)\u001b[0m\u001b[0;34m\u001b[0m\u001b[0m\n\u001b[0m\u001b[1;32m   2092\u001b[0m \u001b[0;34m\u001b[0m\u001b[0m\n\u001b[1;32m   2093\u001b[0m     \u001b[0;32mdef\u001b[0m \u001b[0m_get_ufunc_and_otypes\u001b[0m\u001b[0;34m(\u001b[0m\u001b[0mself\u001b[0m\u001b[0;34m,\u001b[0m \u001b[0mfunc\u001b[0m\u001b[0;34m,\u001b[0m \u001b[0margs\u001b[0m\u001b[0;34m)\u001b[0m\u001b[0;34m:\u001b[0m\u001b[0;34m\u001b[0m\u001b[0m\n",
      "\u001b[0;32m~/anaconda3/envs/py_36/lib/python3.6/site-packages/numpy/lib/function_base.py\u001b[0m in \u001b[0;36m_vectorize_call\u001b[0;34m(self, func, args)\u001b[0m\n\u001b[1;32m   2168\u001b[0m \u001b[0;34m\u001b[0m\u001b[0m\n\u001b[1;32m   2169\u001b[0m             \u001b[0;32mif\u001b[0m \u001b[0mufunc\u001b[0m\u001b[0;34m.\u001b[0m\u001b[0mnout\u001b[0m \u001b[0;34m==\u001b[0m \u001b[0;36m1\u001b[0m\u001b[0;34m:\u001b[0m\u001b[0;34m\u001b[0m\u001b[0m\n\u001b[0;32m-> 2170\u001b[0;31m                 \u001b[0mres\u001b[0m \u001b[0;34m=\u001b[0m \u001b[0marray\u001b[0m\u001b[0;34m(\u001b[0m\u001b[0moutputs\u001b[0m\u001b[0;34m,\u001b[0m \u001b[0mcopy\u001b[0m\u001b[0;34m=\u001b[0m\u001b[0;32mFalse\u001b[0m\u001b[0;34m,\u001b[0m \u001b[0msubok\u001b[0m\u001b[0;34m=\u001b[0m\u001b[0;32mTrue\u001b[0m\u001b[0;34m,\u001b[0m \u001b[0mdtype\u001b[0m\u001b[0;34m=\u001b[0m\u001b[0motypes\u001b[0m\u001b[0;34m[\u001b[0m\u001b[0;36m0\u001b[0m\u001b[0;34m]\u001b[0m\u001b[0;34m)\u001b[0m\u001b[0;34m\u001b[0m\u001b[0m\n\u001b[0m\u001b[1;32m   2171\u001b[0m             \u001b[0;32melse\u001b[0m\u001b[0;34m:\u001b[0m\u001b[0;34m\u001b[0m\u001b[0m\n\u001b[1;32m   2172\u001b[0m                 res = tuple([array(x, copy=False, subok=True, dtype=t)\n",
      "\u001b[0;31mValueError\u001b[0m: setting an array element with a sequence."
     ]
    }
   ],
   "source": [
    "vec_A2L(adf['google_calendar_event_id'], 1)"
   ]
  },
  {
   "cell_type": "code",
   "execution_count": 61,
   "metadata": {},
   "outputs": [],
   "source": [
    "series = adf['google_calendar_event_id']\n",
    "series.append?"
   ]
  },
  {
   "cell_type": "code",
   "execution_count": 68,
   "metadata": {},
   "outputs": [
    {
     "name": "stderr",
     "output_type": "stream",
     "text": [
      "/Users/lauriermantel/anaconda3/envs/py_36/lib/python3.6/site-packages/ipykernel_launcher.py:1: FutureWarning: Method .as_matrix will be removed in a future version. Use .values instead.\n",
      "  \"\"\"Entry point for launching an IPython kernel.\n"
     ]
    },
    {
     "data": {
      "text/plain": [
       "array([list([]), list([]), list([]), ..., list([]), list([]), list([])],\n",
       "      dtype=object)"
      ]
     },
     "execution_count": 68,
     "metadata": {},
     "output_type": "execute_result"
    }
   ],
   "source": [
    "arr = adf['google_calendar_event_id'].as_matrix()\n",
    "arr"
   ]
  },
  {
   "cell_type": "code",
   "execution_count": 69,
   "metadata": {},
   "outputs": [
    {
     "data": {
      "text/plain": [
       "[]"
      ]
     },
     "execution_count": 69,
     "metadata": {},
     "output_type": "execute_result"
    }
   ],
   "source": [
    "arr."
   ]
  },
  {
   "cell_type": "code",
   "execution_count": null,
   "metadata": {},
   "outputs": [],
   "source": []
  },
  {
   "cell_type": "code",
   "execution_count": 156,
   "metadata": {},
   "outputs": [],
   "source": [
    "testy['d'] = pd.Series(([] for i in range(len(testy))))"
   ]
  },
  {
   "cell_type": "code",
   "execution_count": 157,
   "metadata": {},
   "outputs": [
    {
     "data": {
      "text/html": [
       "<div>\n",
       "<style scoped>\n",
       "    .dataframe tbody tr th:only-of-type {\n",
       "        vertical-align: middle;\n",
       "    }\n",
       "\n",
       "    .dataframe tbody tr th {\n",
       "        vertical-align: top;\n",
       "    }\n",
       "\n",
       "    .dataframe thead th {\n",
       "        text-align: right;\n",
       "    }\n",
       "</style>\n",
       "<table border=\"1\" class=\"dataframe\">\n",
       "  <thead>\n",
       "    <tr style=\"text-align: right;\">\n",
       "      <th></th>\n",
       "      <th>a</th>\n",
       "      <th>b</th>\n",
       "      <th>c</th>\n",
       "      <th>d</th>\n",
       "    </tr>\n",
       "  </thead>\n",
       "  <tbody>\n",
       "    <tr>\n",
       "      <th>0</th>\n",
       "      <td>1</td>\n",
       "      <td>4</td>\n",
       "      <td>[1, 2, 9999]</td>\n",
       "      <td>[]</td>\n",
       "    </tr>\n",
       "    <tr>\n",
       "      <th>1</th>\n",
       "      <td>2</td>\n",
       "      <td>5</td>\n",
       "      <td>[]</td>\n",
       "      <td>[9]</td>\n",
       "    </tr>\n",
       "    <tr>\n",
       "      <th>2</th>\n",
       "      <td>3</td>\n",
       "      <td>6</td>\n",
       "      <td>[]</td>\n",
       "      <td>[]</td>\n",
       "    </tr>\n",
       "  </tbody>\n",
       "</table>\n",
       "</div>"
      ],
      "text/plain": [
       "   a  b             c    d\n",
       "0  1  4  [1, 2, 9999]   []\n",
       "1  2  5            []  [9]\n",
       "2  3  6            []   []"
      ]
     },
     "execution_count": 157,
     "metadata": {},
     "output_type": "execute_result"
    }
   ],
   "source": [
    "testy.d[1].append(9)\n",
    "testy"
   ]
  },
  {
   "cell_type": "code",
   "execution_count": 211,
   "metadata": {},
   "outputs": [
    {
     "data": {
      "text/plain": [
       "[None, None]"
      ]
     },
     "execution_count": 211,
     "metadata": {},
     "output_type": "execute_result"
    }
   ],
   "source": [
    "[a.append(69) for a in testy.loc[testy['b'] >4].d]"
   ]
  },
  {
   "cell_type": "code",
   "execution_count": 212,
   "metadata": {},
   "outputs": [
    {
     "data": {
      "text/html": [
       "<div>\n",
       "<style scoped>\n",
       "    .dataframe tbody tr th:only-of-type {\n",
       "        vertical-align: middle;\n",
       "    }\n",
       "\n",
       "    .dataframe tbody tr th {\n",
       "        vertical-align: top;\n",
       "    }\n",
       "\n",
       "    .dataframe thead th {\n",
       "        text-align: right;\n",
       "    }\n",
       "</style>\n",
       "<table border=\"1\" class=\"dataframe\">\n",
       "  <thead>\n",
       "    <tr style=\"text-align: right;\">\n",
       "      <th></th>\n",
       "      <th>a</th>\n",
       "      <th>b</th>\n",
       "      <th>c</th>\n",
       "      <th>d</th>\n",
       "    </tr>\n",
       "  </thead>\n",
       "  <tbody>\n",
       "    <tr>\n",
       "      <th>0</th>\n",
       "      <td>1</td>\n",
       "      <td>4</td>\n",
       "      <td>[1, 2, 9999]</td>\n",
       "      <td>[]</td>\n",
       "    </tr>\n",
       "    <tr>\n",
       "      <th>1</th>\n",
       "      <td>2</td>\n",
       "      <td>5</td>\n",
       "      <td>[]</td>\n",
       "      <td>[9, 69, 69, 69, 69, 69]</td>\n",
       "    </tr>\n",
       "    <tr>\n",
       "      <th>2</th>\n",
       "      <td>3</td>\n",
       "      <td>6</td>\n",
       "      <td>[]</td>\n",
       "      <td>[69, 69, 69, 69, 69]</td>\n",
       "    </tr>\n",
       "  </tbody>\n",
       "</table>\n",
       "</div>"
      ],
      "text/plain": [
       "   a  b             c                        d\n",
       "0  1  4  [1, 2, 9999]                       []\n",
       "1  2  5            []  [9, 69, 69, 69, 69, 69]\n",
       "2  3  6            []     [69, 69, 69, 69, 69]"
      ]
     },
     "execution_count": 212,
     "metadata": {},
     "output_type": "execute_result"
    }
   ],
   "source": [
    "testy"
   ]
  },
  {
   "cell_type": "code",
   "execution_count": 146,
   "metadata": {},
   "outputs": [],
   "source": [
    "ppp[0] = [1]"
   ]
  },
  {
   "cell_type": "code",
   "execution_count": 155,
   "metadata": {},
   "outputs": [
    {
     "data": {
      "text/plain": [
       "0    []\n",
       "1    []\n",
       "2    []\n",
       "dtype: object"
      ]
     },
     "execution_count": 155,
     "metadata": {},
     "output_type": "execute_result"
    }
   ],
   "source": [
    "pd.Series([[]]*len(testy))"
   ]
  },
  {
   "cell_type": "code",
   "execution_count": null,
   "metadata": {},
   "outputs": [],
   "source": []
  }
 ],
 "metadata": {
  "kernelspec": {
   "display_name": "Python 3",
   "language": "python",
   "name": "python3"
  },
  "language_info": {
   "codemirror_mode": {
    "name": "ipython",
    "version": 3
   },
   "file_extension": ".py",
   "mimetype": "text/x-python",
   "name": "python",
   "nbconvert_exporter": "python",
   "pygments_lexer": "ipython3",
   "version": "3.6.3"
  }
 },
 "nbformat": 4,
 "nbformat_minor": 2
}
